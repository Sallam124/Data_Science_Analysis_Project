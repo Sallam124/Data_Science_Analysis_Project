{
 "cells": [
  {
   "cell_type": "markdown",
   "metadata": {},
   "source": [
    "# Data Science Project Workflow\n",
    "\n",
    "## Project Overview\n",
    "- **Objective**: Define the problem and goals of the project.\n",
    "- **Milestones**: Data Collection, Exploration, Preprocessing, Advanced Analysis, Model Development, Deployment, and Final Documentation.\n",
    "\n",
    "---"
   ]
  },
  {
   "cell_type": "markdown",
   "metadata": {},
   "source": [
    "## Domain and Research Questions\n",
    "\n",
    "### Domain of the Project\n",
    "- [Gaming Analytics]\n",
    "\n",
    "### Research Questions to be Answered\n",
    "1.\tGaming Success Factors : How does genre influence a video game’s commercial success, as measured by sales figures?\n",
    "\n",
    "2.\tGaming Success Factors : How does a game's deployment platform (PC, console, mobile) impact its success, and what type of genres are more desired on different platforms?\n",
    "\n",
    "3. Player Engagement Metrics: What factors influence player engagement in video games, as measured by session length, return rate, and active player count?\n",
    "\n",
    "4.\tUser Reviews vs. Sales: how do user reviews and ratings on platforms like Steam correlate with a game’s sales performance and player retention, as measured through sales data and active player counts?\n",
    "\n",
    "\n",
    "5.\tRelease Timing & Sales: How does the timing of a game’s release (season, year) affect its initial and long-term sales, as well as critical reception, based on historical sales trends and review scores?\n",
    "\n",
    "\n",
    "---\n"
   ]
  },
  {
   "cell_type": "markdown",
   "metadata": {},
   "source": [
    "\n",
    "## Student Information\n",
    "- **Name**: [Ahmed Sallam]  \n",
    "- **Email**: [AS2200588]  \n",
    "- **Role**: Data Science Student  \n",
    "- **Institution**: [The Knowledge Hub (Coventry)]\n",
    "\n",
    "## Additional Information\n",
    "- **Project Timeline**: [March 1, 2025 - April 19, 2025]  \n",
    "- **Tools Used** : Python, SQLite, Pandas, Matplotlib (for data visualization), NumPy, SteamDB, Kaggle datasets and VGChartz\n",
    "\n",
    "- **Contact for Inquiries**: [sallam.a.y.m@gmail.com]\n",
    "\n",
    "---"
   ]
  },
  {
   "cell_type": "markdown",
   "metadata": {},
   "source": [
    "# Milestone 1: Data Collection, Exploration, and Preprocessing"
   ]
  },
  {
   "cell_type": "markdown",
   "metadata": {},
   "source": [
    "## Data Collection\n",
    "- Acquire a dataset from reliable sources (e.g., Kaggle, UCI Repository, or APIs).\n",
    "- **Scraping Data**:\n",
    "  - Increase dataset size through web scraping or APIs (e.g., Selenium, BeautifulSoup).\n",
    "  - Explore public repositories or other accessible sources for additional data."
   ]
  },
  {
   "cell_type": "markdown",
   "metadata": {},
   "source": [
    "## Dataset Description\n",
    "- Create a table to explain:\n",
    "  - **Column Names**\n",
    "  - **Data Types**\n",
    "  - **Descriptions**\n",
    "  - **Potential Use in Analysis**"
   ]
  },
  {
   "cell_type": "code",
   "execution_count": 19,
   "metadata": {},
   "outputs": [
    {
     "name": "stdout",
     "output_type": "stream",
     "text": [
      "First dataset without any Changes (Kaggle_dataset2.csv):\n"
     ]
    },
    {
     "data": {
      "text/html": [
       "<div>\n",
       "<style scoped>\n",
       "    .dataframe tbody tr th:only-of-type {\n",
       "        vertical-align: middle;\n",
       "    }\n",
       "\n",
       "    .dataframe tbody tr th {\n",
       "        vertical-align: top;\n",
       "    }\n",
       "\n",
       "    .dataframe thead th {\n",
       "        text-align: right;\n",
       "    }\n",
       "</style>\n",
       "<table border=\"1\" class=\"dataframe\">\n",
       "  <thead>\n",
       "    <tr style=\"text-align: right;\">\n",
       "      <th></th>\n",
       "      <th>Name</th>\n",
       "      <th>Platform</th>\n",
       "      <th>Year_of_Release</th>\n",
       "      <th>Genre</th>\n",
       "      <th>Publisher</th>\n",
       "      <th>NA_Sales</th>\n",
       "      <th>EU_Sales</th>\n",
       "      <th>JP_Sales</th>\n",
       "      <th>Other_Sales</th>\n",
       "      <th>Global_Sales</th>\n",
       "      <th>Critic_Score</th>\n",
       "      <th>Critic_Count</th>\n",
       "      <th>User_Score</th>\n",
       "      <th>User_Count</th>\n",
       "      <th>Developer</th>\n",
       "      <th>Rating</th>\n",
       "    </tr>\n",
       "  </thead>\n",
       "  <tbody>\n",
       "    <tr>\n",
       "      <th>0</th>\n",
       "      <td>Wii Sports</td>\n",
       "      <td>Wii</td>\n",
       "      <td>2006.0</td>\n",
       "      <td>Sports</td>\n",
       "      <td>Nintendo</td>\n",
       "      <td>41.36</td>\n",
       "      <td>28.96</td>\n",
       "      <td>3.77</td>\n",
       "      <td>8.45</td>\n",
       "      <td>82.53</td>\n",
       "      <td>76.0</td>\n",
       "      <td>51.0</td>\n",
       "      <td>8</td>\n",
       "      <td>322.0</td>\n",
       "      <td>Nintendo</td>\n",
       "      <td>E</td>\n",
       "    </tr>\n",
       "    <tr>\n",
       "      <th>1</th>\n",
       "      <td>Super Mario Bros.</td>\n",
       "      <td>NES</td>\n",
       "      <td>1985.0</td>\n",
       "      <td>Platform</td>\n",
       "      <td>Nintendo</td>\n",
       "      <td>29.08</td>\n",
       "      <td>3.58</td>\n",
       "      <td>6.81</td>\n",
       "      <td>0.77</td>\n",
       "      <td>40.24</td>\n",
       "      <td>NaN</td>\n",
       "      <td>NaN</td>\n",
       "      <td>NaN</td>\n",
       "      <td>NaN</td>\n",
       "      <td>NaN</td>\n",
       "      <td>NaN</td>\n",
       "    </tr>\n",
       "    <tr>\n",
       "      <th>2</th>\n",
       "      <td>Mario Kart Wii</td>\n",
       "      <td>Wii</td>\n",
       "      <td>2008.0</td>\n",
       "      <td>Racing</td>\n",
       "      <td>Nintendo</td>\n",
       "      <td>15.68</td>\n",
       "      <td>12.76</td>\n",
       "      <td>3.79</td>\n",
       "      <td>3.29</td>\n",
       "      <td>35.52</td>\n",
       "      <td>82.0</td>\n",
       "      <td>73.0</td>\n",
       "      <td>8.3</td>\n",
       "      <td>709.0</td>\n",
       "      <td>Nintendo</td>\n",
       "      <td>E</td>\n",
       "    </tr>\n",
       "    <tr>\n",
       "      <th>3</th>\n",
       "      <td>Wii Sports Resort</td>\n",
       "      <td>Wii</td>\n",
       "      <td>2009.0</td>\n",
       "      <td>Sports</td>\n",
       "      <td>Nintendo</td>\n",
       "      <td>15.61</td>\n",
       "      <td>10.93</td>\n",
       "      <td>3.28</td>\n",
       "      <td>2.95</td>\n",
       "      <td>32.77</td>\n",
       "      <td>80.0</td>\n",
       "      <td>73.0</td>\n",
       "      <td>8</td>\n",
       "      <td>192.0</td>\n",
       "      <td>Nintendo</td>\n",
       "      <td>E</td>\n",
       "    </tr>\n",
       "    <tr>\n",
       "      <th>4</th>\n",
       "      <td>Pokemon Red/Pokemon Blue</td>\n",
       "      <td>GB</td>\n",
       "      <td>1996.0</td>\n",
       "      <td>Role-Playing</td>\n",
       "      <td>Nintendo</td>\n",
       "      <td>11.27</td>\n",
       "      <td>8.89</td>\n",
       "      <td>10.22</td>\n",
       "      <td>1.00</td>\n",
       "      <td>31.37</td>\n",
       "      <td>NaN</td>\n",
       "      <td>NaN</td>\n",
       "      <td>NaN</td>\n",
       "      <td>NaN</td>\n",
       "      <td>NaN</td>\n",
       "      <td>NaN</td>\n",
       "    </tr>\n",
       "  </tbody>\n",
       "</table>\n",
       "</div>"
      ],
      "text/plain": [
       "                       Name Platform  Year_of_Release         Genre Publisher  \\\n",
       "0                Wii Sports      Wii           2006.0        Sports  Nintendo   \n",
       "1         Super Mario Bros.      NES           1985.0      Platform  Nintendo   \n",
       "2            Mario Kart Wii      Wii           2008.0        Racing  Nintendo   \n",
       "3         Wii Sports Resort      Wii           2009.0        Sports  Nintendo   \n",
       "4  Pokemon Red/Pokemon Blue       GB           1996.0  Role-Playing  Nintendo   \n",
       "\n",
       "   NA_Sales  EU_Sales  JP_Sales  Other_Sales  Global_Sales  Critic_Score  \\\n",
       "0     41.36     28.96      3.77         8.45         82.53          76.0   \n",
       "1     29.08      3.58      6.81         0.77         40.24           NaN   \n",
       "2     15.68     12.76      3.79         3.29         35.52          82.0   \n",
       "3     15.61     10.93      3.28         2.95         32.77          80.0   \n",
       "4     11.27      8.89     10.22         1.00         31.37           NaN   \n",
       "\n",
       "   Critic_Count User_Score  User_Count Developer Rating  \n",
       "0          51.0          8       322.0  Nintendo      E  \n",
       "1           NaN        NaN         NaN       NaN    NaN  \n",
       "2          73.0        8.3       709.0  Nintendo      E  \n",
       "3          73.0          8       192.0  Nintendo      E  \n",
       "4           NaN        NaN         NaN       NaN    NaN  "
      ]
     },
     "metadata": {},
     "output_type": "display_data"
    },
    {
     "name": "stdout",
     "output_type": "stream",
     "text": [
      "\n",
      "______________________________________________________________________________________________________________________________________________________\n",
      "\n",
      "Final Dataset (Merged_Final).csv):\n"
     ]
    },
    {
     "data": {
      "text/html": [
       "<div>\n",
       "<style scoped>\n",
       "    .dataframe tbody tr th:only-of-type {\n",
       "        vertical-align: middle;\n",
       "    }\n",
       "\n",
       "    .dataframe tbody tr th {\n",
       "        vertical-align: top;\n",
       "    }\n",
       "\n",
       "    .dataframe thead th {\n",
       "        text-align: right;\n",
       "    }\n",
       "</style>\n",
       "<table border=\"1\" class=\"dataframe\">\n",
       "  <thead>\n",
       "    <tr style=\"text-align: right;\">\n",
       "      <th></th>\n",
       "      <th>Name</th>\n",
       "      <th>Genre</th>\n",
       "      <th>Platform</th>\n",
       "      <th>Release_Season</th>\n",
       "      <th>NA_Sales_Millions</th>\n",
       "      <th>EU_Sales_Millions</th>\n",
       "      <th>Global_Sales_Millions</th>\n",
       "      <th>Developer</th>\n",
       "      <th>Original_Index</th>\n",
       "      <th>User_Score</th>\n",
       "      <th>Rating</th>\n",
       "      <th>Publisher</th>\n",
       "      <th>Steam_App_ID</th>\n",
       "      <th>Price</th>\n",
       "    </tr>\n",
       "  </thead>\n",
       "  <tbody>\n",
       "    <tr>\n",
       "      <th>0</th>\n",
       "      <td>Nintendogs</td>\n",
       "      <td>Simulation</td>\n",
       "      <td>DS</td>\n",
       "      <td>Spring</td>\n",
       "      <td>9.05</td>\n",
       "      <td>10.95</td>\n",
       "      <td>24.67</td>\n",
       "      <td>NaN</td>\n",
       "      <td>10</td>\n",
       "      <td>NaN</td>\n",
       "      <td>NaN</td>\n",
       "      <td>Nintendo</td>\n",
       "      <td>NaN</td>\n",
       "      <td>NaN</td>\n",
       "    </tr>\n",
       "    <tr>\n",
       "      <th>1</th>\n",
       "      <td>Wii Fit</td>\n",
       "      <td>Sports</td>\n",
       "      <td>Wii</td>\n",
       "      <td>Winter</td>\n",
       "      <td>8.92</td>\n",
       "      <td>8.03</td>\n",
       "      <td>22.70</td>\n",
       "      <td>Nintendo</td>\n",
       "      <td>13</td>\n",
       "      <td>7.7</td>\n",
       "      <td>E</td>\n",
       "      <td>Nintendo</td>\n",
       "      <td>NaN</td>\n",
       "      <td>NaN</td>\n",
       "    </tr>\n",
       "    <tr>\n",
       "      <th>2</th>\n",
       "      <td>Wii Fit Plus</td>\n",
       "      <td>Sports</td>\n",
       "      <td>Wii</td>\n",
       "      <td>Winter</td>\n",
       "      <td>9.01</td>\n",
       "      <td>8.49</td>\n",
       "      <td>21.79</td>\n",
       "      <td>Nintendo</td>\n",
       "      <td>15</td>\n",
       "      <td>7.4</td>\n",
       "      <td>E</td>\n",
       "      <td>Nintendo</td>\n",
       "      <td>NaN</td>\n",
       "      <td>NaN</td>\n",
       "    </tr>\n",
       "    <tr>\n",
       "      <th>3</th>\n",
       "      <td>Grand Theft Auto V</td>\n",
       "      <td>Action</td>\n",
       "      <td>PS3</td>\n",
       "      <td>Fall</td>\n",
       "      <td>7.02</td>\n",
       "      <td>9.09</td>\n",
       "      <td>21.04</td>\n",
       "      <td>Rockstar North</td>\n",
       "      <td>16</td>\n",
       "      <td>8.2</td>\n",
       "      <td>M</td>\n",
       "      <td>Take-Two Interactive</td>\n",
       "      <td>NaN</td>\n",
       "      <td>NaN</td>\n",
       "    </tr>\n",
       "    <tr>\n",
       "      <th>4</th>\n",
       "      <td>Grand Theft Auto: San Andreas</td>\n",
       "      <td>Action</td>\n",
       "      <td>PS2</td>\n",
       "      <td>Fall</td>\n",
       "      <td>9.43</td>\n",
       "      <td>0.40</td>\n",
       "      <td>20.81</td>\n",
       "      <td>Rockstar North</td>\n",
       "      <td>17</td>\n",
       "      <td>9</td>\n",
       "      <td>M</td>\n",
       "      <td>Take-Two Interactive</td>\n",
       "      <td>NaN</td>\n",
       "      <td>NaN</td>\n",
       "    </tr>\n",
       "  </tbody>\n",
       "</table>\n",
       "</div>"
      ],
      "text/plain": [
       "                            Name       Genre Platform Release_Season  \\\n",
       "0                     Nintendogs  Simulation       DS         Spring   \n",
       "1                        Wii Fit      Sports      Wii         Winter   \n",
       "2                   Wii Fit Plus      Sports      Wii         Winter   \n",
       "3             Grand Theft Auto V      Action      PS3           Fall   \n",
       "4  Grand Theft Auto: San Andreas      Action      PS2           Fall   \n",
       "\n",
       "   NA_Sales_Millions  EU_Sales_Millions  Global_Sales_Millions  \\\n",
       "0               9.05              10.95                  24.67   \n",
       "1               8.92               8.03                  22.70   \n",
       "2               9.01               8.49                  21.79   \n",
       "3               7.02               9.09                  21.04   \n",
       "4               9.43               0.40                  20.81   \n",
       "\n",
       "        Developer  Original_Index User_Score Rating             Publisher  \\\n",
       "0             NaN              10        NaN    NaN              Nintendo   \n",
       "1        Nintendo              13        7.7      E              Nintendo   \n",
       "2        Nintendo              15        7.4      E              Nintendo   \n",
       "3  Rockstar North              16        8.2      M  Take-Two Interactive   \n",
       "4  Rockstar North              17          9      M  Take-Two Interactive   \n",
       "\n",
       "   Steam_App_ID  Price  \n",
       "0           NaN    NaN  \n",
       "1           NaN    NaN  \n",
       "2           NaN    NaN  \n",
       "3           NaN    NaN  \n",
       "4           NaN    NaN  "
      ]
     },
     "metadata": {},
     "output_type": "display_data"
    }
   ],
   "source": [
    "import pandas as pd\n",
    "from IPython.display import display # To display multiple outputs in one cell\n",
    "separator = \"=\" * 150\n",
    "separator2 = \"-\" * 150\n",
    "\n",
    "data = pd.read_csv(r'Data\\Raw\\Kaggle_dataset2(with_ratings).csv')  \n",
    "print(\"First dataset without any Changes (Kaggle_dataset2.csv):\")\n",
    "display(data.head())\n",
    "\n",
    "\n",
    "data2 = pd.read_csv(r\"Data\\Processed\\Other\\Dup_Free_Steam.csv\")\n",
    "\n",
    "print(\"\\n\" + \"_\"*150 + \"\\n\")\n",
    "\n",
    "data3 = pd.read_csv(r\"Data\\Processed\\Final\\Merged_Final.csv\")  \n",
    "print(\"Final Dataset (Merged_Final).csv):\")\n",
    "display(data3.head())"
   ]
  },
  {
   "cell_type": "markdown",
   "metadata": {},
   "source": [
    "## 📊 Dataset Description – Raw Data (Kaggle Dataset2 (with ratings))\n",
    "\n",
    "This table summarizes the columns found in the raw dataset, which contains information about the most sold video games of all time. It includes metadata like release year, genre, sales figures across regions, and user/critic scores.\n",
    "\n",
    "| Column Name     | Data Type | Description                                         | Potential Use in Analysis                                                                 |\n",
    "|-----------------|-----------|-----------------------------------------------------|---------------------------------------------------------------------------------------------|\n",
    "| Name            | string    | Title of the video game                             | Used to identify and group games across datasets                                            |\n",
    "| Platform        | string    | Platform on which the game was released             | Analyze platform-based performance (Q2)                                                     |\n",
    "| Year_of_Release | int       | Release year of the game                            | Analyze trends over time, seasonality (Q5)                                                  |\n",
    "| Genre           | string    | Genre/category of the game                          | Compare genre performance across sales and platforms (Q1, Q2)                               |\n",
    "| Publisher       | string    | Company that published the game                     | Grouping, understanding publisher influence                                                 |\n",
    "| NA_Sales        | float     | Sales in North America (millions)                   | Sales in North America analysis                                                                     |\n",
    "| EU_Sales        | float     | Sales in Europe (millions)                          | Sales in Europe analysis                                                                     |\n",
    "| JP_Sales        | float     | Sales in Japan (millions)                           | Sales in Japan analysis                                                                     |\n",
    "| Other_Sales     | float     | Sales in other regions (millions)                   | sales in other regions analysis                                                                     |\n",
    "| Global_Sales    | float     | Total global sales (millions)                       | Key metric for game success (Q1, Q2, Q4)                                                    |\n",
    "| Critic_Score    | int       | Average score from critics (0–100)                  | Compare critic reception to sales (Q4, Q5)                                                  |\n",
    "| Critic_Count    | int       | Number of critic reviews                            | Evaluate weight of critic score                                                             |\n",
    "| User_Score      | float     | Average user rating (0–10)                          | Analyze correlation with sales and player satisfaction (Q4)                                 |\n",
    "| User_Count      | int       | Number of user reviews                              | Measure engagement or popularity                                                            |\n",
    "| Developer       | string    | Game development studio                             | Can be used for clustering or linking with publisher                                        |\n",
    "| Rating          | string    | ESRB age rating (E, T, M, etc.)                     | Could be used to explore age rating influence on sales or engagement                        |\n",
    "\n",
    "📝 _Note: “User_Score” may contain non-numeric entries like “tbd”, which should be handled in data preprocessing._\n"
   ]
  },
  {
   "cell_type": "markdown",
   "metadata": {},
   "source": [
    "## 📊 Processed Dataset Description – `Dup_Free_Steam`  \n",
    "\n",
    "This table summarizes the columns in the processed dataset, which integrates data from Steam API, Steam Store, and Metacritic. It provides enriched insights beyond the raw Kaggle dataset.  \n",
    "\n",
    "| Column Name          | Data Type | Description                                         | Potential Use in Analysis                                   |\n",
    "|----------------------|-----------|-----------------------------------------------------|-------------------------------------------------------------|\n",
    "| Name                | string    | Title of the video game                            | Identifying and grouping games across datasets             |\n",
    "| Steam_App_ID        | int       | Unique Steam identifier for the game               | Linking with Steam API and store data                      |\n",
    "| Position           | int       | Ranking position in Steam API results              | Could indicate popularity on Steam                         |\n",
    "| Release_Date        | string    | Official release date                              | Used for trend analysis over time                          |\n",
    "| Release_Season      | string    | Season of release (Spring, Summer, etc.)          | Could reveal seasonality patterns                          |\n",
    "| Platform           | string    | Platform on which the game was released            | Analyze platform-based performance                         |\n",
    "| Genre              | string    | Category of the game (RPG, FPS, etc.)              | Compare genre success across sales and reviews             |\n",
    "| Publisher          | string    | Company that published the game                   | Understanding publisher influence on game success         |\n",
    "| NA_Sales           | float     | Sales in North America (millions)                 | Regional sales analysis                                    |\n",
    "| EU_Sales           | float     | Sales in Europe (millions)                        | Regional sales analysis                                    |\n",
    "| Global_Sales       | float     | Total global sales (millions)                     | Measuring overall game success                             |\n",
    "| User_Count         | int       | Number of user reviews on Steam                   | Indicator of engagement/popularity                         |\n",
    "| Developer         | string    | Game development studio                           | Can be used for clustering or linking with publisher      |\n",
    "| steam_price_usd   | float     | Price of the game in USD on Steam Store           | Helps analyze price impact on popularity & sales          |\n",
    "| metacritic_score  | int       | Average critic review score (0–100)               | Compare critic reception with sales                       |\n",
    "| total_recommendations | int | Number of recommendations on Steam | Measures user satisfaction & engagement |\n",
    "\n"
   ]
  },
  {
   "cell_type": "markdown",
   "metadata": {},
   "source": [
    "## 📊 Processed Dataset Description – `Merged_Final`\n",
    "\n",
    "This dataset provides an enriched view of video game sales, incorporating metadata from multiple sources. It retains some of the relevant columns while adding to them the information needed to answer the analysis questions.\n",
    "\n",
    "\n",
    "| Column Name          | Data Type  | Description                                         | Potential Use in Analysis                                   |\n",
    "|----------------------|-----------|-----------------------------------------------------|-------------------------------------------------------------|\n",
    "| Name                | string    | Title of the video game                            | Identifying and grouping games across datasets             |\n",
    "| Genre              | string    | Category of the game (RPG, FPS, etc.)              | Compare genre success across sales and reviews             |\n",
    "| Platform           | string    | Platform on which the game was released            | Analyze platform-based performance                         |\n",
    "| Release_Season      | string    | Season of release (Spring, Summer, etc.)          | Could reveal seasonality patterns                          |\n",
    "| NA_Sales_Millions  | float     | Sales in North America (millions)                 | Regional sales analysis                                    |\n",
    "| EU_Sales_Millions  | float     | Sales in Europe (millions)                        | Regional sales analysis                                    |\n",
    "| Global_Sales_Millions | float  | Total global sales (millions)                     | Measuring overall game success                             |\n",
    "| Developer         | string    | Game development studio                           | Can be used for clustering or linking with publisher      |\n",
    "| Original_Index     | int       | Index from the original dataset before merging    | Helps trace data back to its original source              |\n",
    "| User_Score        | float/null | User rating of the game (null if missing)         | Analyzing user reception                                  |\n",
    "| Rating            | string/null | Age rating of the game                            | Useful for demographic analysis                          |\n",
    "| Publisher         | string    | Company that published the game                   | Understanding publisher influence on game success         |\n",
    "| Steam_App_ID      | int/null  | Unique Steam identifier (null if not found)        | Linking with Steam API and store data                      |\n",
    "| Price            | float/null | Price of the game (null if unavailable)          | Helps analyze price impact on popularity & sales          |\n",
    "\n"
   ]
  },
  {
   "cell_type": "markdown",
   "metadata": {},
   "source": [
    "## Data Exploration\n",
    "- Summary statistics (mean, median, variance).\n",
    "- Identify missing values, duplicates, and outliers.\n",
    "- Data distribution visualizations: histograms, box plots, scatter plots."
   ]
  },
  {
   "cell_type": "code",
   "execution_count": null,
   "metadata": {},
   "outputs": [
    {
     "name": "stdout",
     "output_type": "stream",
     "text": [
      "======================================================================================================================================================\n",
      "📊 Summary Statistics for Old Dataset (data)\n",
      "======================================================================================================================================================\n",
      "       Year_of_Release  NA_Sales  EU_Sales  JP_Sales  Other_Sales  Global_Sales  Critic_Score  Critic_Count  User_Count\n",
      "count         16450.00  16719.00  16719.00  16719.00     16719.00      16719.00       8137.00       8137.00     7590.00\n",
      "mean           2006.49      0.26      0.15      0.08         0.05          0.53         68.97         26.36      162.23\n",
      "std               5.88      0.81      0.50      0.31         0.19          1.55         13.94         18.98      561.28\n",
      "min            1980.00      0.00      0.00      0.00         0.00          0.01         13.00          3.00        4.00\n",
      "25%            2003.00      0.00      0.00      0.00         0.00          0.06         60.00         12.00       10.00\n",
      "50%            2007.00      0.08      0.02      0.00         0.01          0.17         71.00         21.00       24.00\n",
      "75%            2010.00      0.24      0.11      0.04         0.03          0.47         79.00         36.00       81.00\n",
      "max            2020.00     41.36     28.96     10.22        10.57         82.53         98.00        113.00    10665.00\n",
      "\n",
      "======================================================================================================================================================\n",
      "\n",
      "======================================================================================================================================================\n",
      "📊 Summary Statistics for New Dataset (data3)\n",
      "======================================================================================================================================================\n",
      "       NA_Sales_Millions  EU_Sales_Millions  Global_Sales_Millions  Original_Index  Steam_App_ID  Price\n",
      "count            1783.00            1783.00                1783.00         1783.00        170.00  28.00\n",
      "mean                0.48               0.29                   0.98         6611.46     248116.12   9.04\n",
      "std                 1.04               0.70                   2.06         4973.81     344122.08  12.32\n",
      "min                 0.00               0.00                   0.01           10.00         10.00   0.97\n",
      "25%                 0.03               0.01                   0.09         2070.50      25420.00   2.37\n",
      "50%                 0.14               0.06                   0.32         5645.00     203150.00   5.28\n",
      "75%                 0.47               0.30                   1.00        10889.50     290662.50   9.99\n",
      "max                12.78              10.95                  24.67        16698.00    2050650.00  49.99\n"
     ]
    }
   ],
   "source": [
    "print(separator)\n",
    "print(\"📊 Summary Statistics for Old Dataset (data)\")\n",
    "print(separator)\n",
    "print(data.describe().round(2).to_string())\n",
    "\n",
    "print(\"\\n\" + separator2 + \"\\n\")\n",
    "\n",
    "print(separator)\n",
    "\n",
    "print(\"📊 Summary Statistics for New Dataset (data3)\")\n",
    "print(separator)\n",
    "print(data3.describe().round(2).to_string())\n",
    "\n"
   ]
  },
  {
   "cell_type": "code",
   "execution_count": null,
   "metadata": {},
   "outputs": [
    {
     "name": "stdout",
     "output_type": "stream",
     "text": [
      "======================================================================================================================================================\n",
      "🔍 Missing Values in Dataset\n",
      "======================================================================================================================================================\n",
      "Name                  2\n",
      "Year_of_Release     269\n",
      "Genre                 2\n",
      "Publisher            54\n",
      "Critic_Score       8582\n",
      "Critic_Count       8582\n",
      "User_Score         6704\n",
      "User_Count         9129\n",
      "Developer          6623\n",
      "Rating             6769\n",
      "dtype: int64\n"
     ]
    }
   ],
   "source": [
    "missing_values = data.isnull().sum()\n",
    "\n",
    "print(separator)\n",
    "print(\"🔍 Missing Values in Dataset\")\n",
    "print(separator)\n",
    "print(missing_values[missing_values > 0])\n"
   ]
  },
  {
   "cell_type": "code",
   "execution_count": 20,
   "metadata": {},
   "outputs": [
    {
     "name": "stdout",
     "output_type": "stream",
     "text": [
      "\n",
      "======================================================================================================================================================\n",
      "📊 Outlier Detection Summary (IQR Method)\n",
      "======================================================================================================================================================\n",
      "\n",
      "🚨 Outliers per Numeric Column:\n",
      "Year_of_Release     305\n",
      "NA_Sales           1687\n",
      "EU_Sales           2061\n",
      "JP_Sales           2434\n",
      "Other_Sales        2243\n",
      "Global_Sales       1892\n",
      "Critic_Score         83\n",
      "Critic_Count        251\n",
      "User_Count         1080\n",
      "dtype: int64\n"
     ]
    }
   ],
   "source": [
    "# Select numerical columns\n",
    "numeric_cols = data.select_dtypes(include=['number'])\n",
    "\n",
    "# Compute IQR\n",
    "Q1 = numeric_cols.quantile(0.25)\n",
    "Q3 = numeric_cols.quantile(0.75)\n",
    "IQR = Q3 - Q1\n",
    "\n",
    "# Identify outliers using IQR method\n",
    "outliers_iqr = ((numeric_cols < (Q1 - 1.5 * IQR)) | (numeric_cols > (Q3 + 1.5 * IQR))).sum()\n",
    "\n",
    "# Display results\n",
    "print(f\"\\n{separator}\")\n",
    "print(\"📊 Outlier Detection Summary (IQR Method)\")\n",
    "print(separator)\n",
    "print(\"\\n🚨 Outliers per Numeric Column:\")\n",
    "print(outliers_iqr[outliers_iqr > 0])\n"
   ]
  },
  {
   "cell_type": "code",
   "execution_count": 23,
   "metadata": {},
   "outputs": [
    {
     "name": "stdout",
     "output_type": "stream",
     "text": [
      "Index(['Name', 'Platform', 'Year_of_Release', 'Genre', 'Publisher', 'NA_Sales',\n",
      "       'EU_Sales', 'JP_Sales', 'Other_Sales', 'Global_Sales', 'Critic_Score',\n",
      "       'Critic_Count', 'User_Score', 'User_Count', 'Developer', 'Rating'],\n",
      "      dtype='object')\n"
     ]
    }
   ],
   "source": [
    "print(data.columns)\n"
   ]
  },
  {
   "cell_type": "code",
   "execution_count": 31,
   "metadata": {},
   "outputs": [
    {
     "name": "stderr",
     "output_type": "stream",
     "text": [
      "c:\\Users\\salla\\anaconda3\\Lib\\site-packages\\IPython\\core\\pylabtools.py:170: UserWarning: Glyph 128202 (\\N{BAR CHART}) missing from font(s) DejaVu Sans.\n",
      "  fig.canvas.print_figure(bytes_io, **kw)\n"
     ]
    },
    {
     "data": {
      "image/png": "[encoded data removed]",
      "text/plain": [
       "<Figure size 1200x800 with 9 Axes>"
      ]
     },
     "metadata": {},
     "output_type": "display_data"
    },
    {
     "name": "stderr",
     "output_type": "stream",
     "text": [
      "c:\\Users\\salla\\anaconda3\\Lib\\site-packages\\IPython\\core\\pylabtools.py:170: UserWarning: Glyph 128230 (\\N{PACKAGE}) missing from font(s) DejaVu Sans.\n",
      "  fig.canvas.print_figure(bytes_io, **kw)\n"
     ]
    },
    {
     "data": {
      "image/png": "[encoded data removed]",
      "text/plain": [
       "<Figure size 1200x600 with 1 Axes>"
      ]
     },
     "metadata": {},
     "output_type": "display_data"
    },
    {
     "name": "stderr",
     "output_type": "stream",
     "text": [
      "c:\\Users\\salla\\anaconda3\\Lib\\site-packages\\IPython\\core\\pylabtools.py:170: UserWarning: Glyph 127919 (\\N{DIRECT HIT}) missing from font(s) DejaVu Sans.\n",
      "  fig.canvas.print_figure(bytes_io, **kw)\n"
     ]
    },
    {
     "data": {
      "image/png": "[encoded data removed]",
      "text/plain": [
       "<Figure size 800x600 with 1 Axes>"
      ]
     },
     "metadata": {},
     "output_type": "display_data"
    }
   ],
   "source": [
    "import matplotlib.pyplot as plt\n",
    "import seaborn as sns\n",
    "\n",
    "# Histograms for numerical columns\n",
    "numeric_cols = data.select_dtypes(include=['number']).columns\n",
    "data[numeric_cols].hist(figsize=(12, 8), bins=20, edgecolor='black')\n",
    "plt.suptitle(\"📊 Histograms of Numerical Features\")\n",
    "plt.show()\n",
    "\n",
    "# Box plots excluding User_Score\n",
    "plt.figure(figsize=(12, 6))\n",
    "filtered_numeric_cols = [col for col in numeric_cols if col != \"User_Score\"]\n",
    "sns.boxplot(data=data[filtered_numeric_cols])\n",
    "plt.xticks(rotation=45)\n",
    "plt.title(\"📦 Box Plots of Numerical Features\")\n",
    "plt.show()\n",
    "\n",
    "# Scatter plot (Critic Score vs. Global Sales)\n",
    "plt.figure(figsize=(8, 6))\n",
    "sns.scatterplot(x=data['Critic_Score'], y=data['Global_Sales'])\n",
    "plt.xlabel(\"Critic Score\")\n",
    "plt.ylabel(\"Global Sales\")\n",
    "plt.title(\"🎯 Critic Score vs. Global Sales\")\n",
    "plt.show()\n"
   ]
  },
  {
   "cell_type": "markdown",
   "metadata": {},
   "source": [
    "## Preprocessing and Feature Engineering\n",
    "- Handle missing values.\n",
    "- Remove duplicates and outliers.\n",
    "- Apply transformations (scaling, encoding, feature interactions)."
   ]
  },
  {
   "cell_type": "code",
   "execution_count": null,
   "metadata": {},
   "outputs": [],
   "source": []
  },
  {
   "cell_type": "markdown",
   "metadata": {},
   "source": [
    "\n",
    "---"
   ]
  },
  {
   "cell_type": "markdown",
   "metadata": {},
   "source": [
    "# Milestone 2: Advanced Data Analysis and Feature Engineering"
   ]
  },
  {
   "cell_type": "markdown",
   "metadata": {},
   "source": [
    "## Statistical Analysis\n",
    "- Conduct tests such as t-tests, ANOVA, and chi-squared to explore relationships."
   ]
  },
  {
   "cell_type": "code",
   "execution_count": null,
   "metadata": {},
   "outputs": [],
   "source": []
  },
  {
   "cell_type": "markdown",
   "metadata": {},
   "source": [
    "## Feature Engineering\n",
    "- Create derived features based on domain knowledge.\n",
    "- Apply transformations such as normalization, log scaling, or polynomial features."
   ]
  },
  {
   "cell_type": "code",
   "execution_count": null,
   "metadata": {},
   "outputs": [],
   "source": []
  },
  {
   "cell_type": "markdown",
   "metadata": {},
   "source": [
    "## Data Visualization\n",
    "- Generate insightful visualizations:\n",
    "  - Correlation heatmaps, pair plots.\n",
    "  - Trends and comparisons using bar charts, line charts, and dashboards."
   ]
  },
  {
   "cell_type": "code",
   "execution_count": null,
   "metadata": {},
   "outputs": [],
   "source": []
  },
  {
   "cell_type": "markdown",
   "metadata": {},
   "source": [
    "\n",
    "---\n"
   ]
  },
  {
   "cell_type": "markdown",
   "metadata": {},
   "source": [
    "# Milestone 3: Machine Learning Model Development and Optimization"
   ]
  },
  {
   "cell_type": "markdown",
   "metadata": {},
   "source": [
    "## Model Selection\n",
    "- Choose appropriate models for the problem type (classification, regression, clustering, etc.).\n"
   ]
  },
  {
   "cell_type": "code",
   "execution_count": null,
   "metadata": {},
   "outputs": [],
   "source": []
  },
  {
   "cell_type": "markdown",
   "metadata": {},
   "source": [
    "## Model Training\n",
    "- Split data into training, validation, and testing sets.\n",
    "- Address imbalances using techniques like SMOTE or stratified sampling."
   ]
  },
  {
   "cell_type": "code",
   "execution_count": null,
   "metadata": {},
   "outputs": [],
   "source": []
  },
  {
   "cell_type": "markdown",
   "metadata": {},
   "source": [
    "## Model Evaluation\n",
    "- Metrics to consider: Accuracy, Precision, Recall, F1-score, RMSE, etc.\n",
    "- Visual tools: Confusion matrices, ROC curves."
   ]
  },
  {
   "cell_type": "code",
   "execution_count": null,
   "metadata": {},
   "outputs": [],
   "source": []
  },
  {
   "cell_type": "markdown",
   "metadata": {},
   "source": [
    "## Hyperparameter Tuning\n",
    "- Techniques: Grid Search, Random Search, or advanced methods like Bayesian Optimization."
   ]
  },
  {
   "cell_type": "code",
   "execution_count": null,
   "metadata": {},
   "outputs": [],
   "source": []
  },
  {
   "cell_type": "markdown",
   "metadata": {},
   "source": [
    "## Model Comparison\n",
    "- Compare multiple models and justify the final model selection."
   ]
  },
  {
   "cell_type": "code",
   "execution_count": null,
   "metadata": {},
   "outputs": [],
   "source": []
  },
  {
   "cell_type": "markdown",
   "metadata": {},
   "source": [
    "## Visualization for Research Questions\n",
    "- This section will include the visualizations that provide insights for the research questions defined earlier.  \n",
    "- **Development Steps for Answering the Research Questions**:\n",
    "  1. During **Exploratory Data Analysis (EDA)**, visualize initial patterns or trends related to the research questions.\n",
    "  2. During **Model Evaluation**, provide visualizations to interpret model performance with respect to the research questions.\n",
    "  3. During the **Final Analysis and Reporting**, present polished visualizations that summarize findings for each research question.\n",
    "\n",
    "- Create the visualizations for each research question you defined, prove it or answer it, then add a markdown cell after each visual to comment and explain how the visual support your research question."
   ]
  },
  {
   "cell_type": "code",
   "execution_count": null,
   "metadata": {},
   "outputs": [],
   "source": []
  },
  {
   "cell_type": "markdown",
   "metadata": {},
   "source": []
  },
  {
   "cell_type": "markdown",
   "metadata": {},
   "source": [
    "\n",
    "---\n"
   ]
  },
  {
   "cell_type": "markdown",
   "metadata": {},
   "source": [
    "# Milestone 4: Deployment and Monitoring"
   ]
  },
  {
   "cell_type": "markdown",
   "metadata": {},
   "source": [
    "## Deployment\n",
    "- Deploy the model as a REST API (Flask, FastAPI) or interactive dashboards (Streamlit, Dash).\n",
    "- Host on cloud platforms (AWS, Azure, GCP) or local servers."
   ]
  },
  {
   "cell_type": "code",
   "execution_count": null,
   "metadata": {},
   "outputs": [],
   "source": []
  },
  {
   "cell_type": "markdown",
   "metadata": {},
   "source": [
    "## Monitoring\n",
    "- Set up performance tracking and alert systems for issues.\n",
    "- Monitor metrics for potential model drift or anomalies."
   ]
  },
  {
   "cell_type": "code",
   "execution_count": null,
   "metadata": {},
   "outputs": [],
   "source": []
  },
  {
   "cell_type": "markdown",
   "metadata": {},
   "source": [
    "## Retraining Strategy\n",
    "- Plan for periodic retraining with new or updated data."
   ]
  },
  {
   "cell_type": "code",
   "execution_count": null,
   "metadata": {},
   "outputs": [],
   "source": []
  },
  {
   "cell_type": "markdown",
   "metadata": {},
   "source": [
    "\n",
    "---\n"
   ]
  },
  {
   "cell_type": "markdown",
   "metadata": {},
   "source": [
    "# Milestone 5: Final Documentation and Presentation"
   ]
  },
  {
   "cell_type": "markdown",
   "metadata": {},
   "source": [
    "## Final Report\n",
    "- Summarize all project phases, including methodologies and insights.\n",
    "- Provide actionable recommendations based on findings."
   ]
  },
  {
   "cell_type": "markdown",
   "metadata": {},
   "source": []
  },
  {
   "cell_type": "markdown",
   "metadata": {},
   "source": [
    "## Final Presentation\n",
    "- Create a presentation for stakeholders, highlighting key results.\n",
    "- Include a demo of the deployed application or model."
   ]
  },
  {
   "cell_type": "markdown",
   "metadata": {},
   "source": []
  },
  {
   "cell_type": "markdown",
   "metadata": {},
   "source": [
    "## Future Improvements\n",
    "- Suggest areas for enhancement:\n",
    "  - Incorporating more diverse data.\n",
    "  - Experimenting with additional algorithms.\n",
    "  - Optimizing deployment for scalability."
   ]
  },
  {
   "cell_type": "markdown",
   "metadata": {},
   "source": []
  },
  {
   "cell_type": "markdown",
   "metadata": {},
   "source": [
    "---"
   ]
  },
  {
   "cell_type": "markdown",
   "metadata": {},
   "source": [
    "# Additional Sections"
   ]
  },
  {
   "cell_type": "markdown",
   "metadata": {},
   "source": [
    "## Challenges Faced\n",
    "- Document key challenges encountered during the project lifecycle."
   ]
  },
  {
   "cell_type": "markdown",
   "metadata": {},
   "source": []
  },
  {
   "cell_type": "markdown",
   "metadata": {},
   "source": [
    "## Lessons Learned\n",
    "- Reflect on insights and skills gained through the project."
   ]
  },
  {
   "cell_type": "markdown",
   "metadata": {},
   "source": []
  },
  {
   "cell_type": "markdown",
   "metadata": {},
   "source": [
    "## References\n",
    "- List resources for datasets, tools, and techniques utilized."
   ]
  },
  {
   "cell_type": "markdown",
   "metadata": {},
   "source": []
  },
  {
   "cell_type": "markdown",
   "metadata": {},
   "source": [
    "---"
   ]
  },
  {
   "cell_type": "markdown",
   "metadata": {},
   "source": [
    "# More Sections for Specific Projects"
   ]
  },
  {
   "cell_type": "markdown",
   "metadata": {},
   "source": [
    "## Ethical Considerations\n",
    "- Discuss privacy, fairness, or other ethical implications."
   ]
  },
  {
   "cell_type": "markdown",
   "metadata": {},
   "source": []
  },
  {
   "cell_type": "markdown",
   "metadata": {},
   "source": [
    "## Business Impact\n",
    "- Highlight how the findings address the original objective."
   ]
  },
  {
   "cell_type": "markdown",
   "metadata": {},
   "source": []
  },
  {
   "cell_type": "markdown",
   "metadata": {},
   "source": [
    "## Team Contributions\n",
    "- Acknowledge contributions from team members and collaborators."
   ]
  },
  {
   "cell_type": "markdown",
   "metadata": {},
   "source": []
  },
  {
   "cell_type": "markdown",
   "metadata": {},
   "source": [
    "\n",
    "---\n"
   ]
  },
  {
   "cell_type": "markdown",
   "metadata": {},
   "source": [
    "# Reflection: Data Science Lifecycle Steps and Big Data\n",
    "\n",
    "Reflect on which steps of the data science lifecycle can and cannot be effectively applied to big data, and justify your answers:"
   ]
  },
  {
   "cell_type": "markdown",
   "metadata": {},
   "source": [
    "## Steps That Can Be Used with Big Data\n",
    "\n",
    "Create a list for the steps that can be used with big data with how each step can be used, why is such step applicable and an example tool used for such step in big data world.\n",
    "\n",
    "Include tools, methods, or technologies that make these steps scalable."
   ]
  },
  {
   "cell_type": "markdown",
   "metadata": {},
   "source": []
  },
  {
   "cell_type": "markdown",
   "metadata": {},
   "source": [
    "## Steps That Are Challenging with Big Data\n",
    "\n",
    "Create a list for the steps that are challenging with big data with the solution for the challenge, why is such step challenging and an example tool used for such step in big data world.\n",
    "\n",
    "Explain why these steps are difficult and suggest potential solutions."
   ]
  },
  {
   "cell_type": "markdown",
   "metadata": {},
   "source": []
  },
  {
   "cell_type": "markdown",
   "metadata": {},
   "source": [
    "## Recommendations for Big Data Projects\n",
    "\n",
    "Create a list for the recommendations you have for other data scientists willing to take your project with a big data approach."
   ]
  },
  {
   "cell_type": "markdown",
   "metadata": {},
   "source": []
  },
  {
   "cell_type": "markdown",
   "metadata": {},
   "source": [
    "---"
   ]
  }
 ],
 "metadata": {
  "kernelspec": {
   "display_name": "base",
   "language": "python",
   "name": "python3"
  },
  "language_info": {
   "codemirror_mode": {
    "name": "ipython",
    "version": 3
   },
   "file_extension": ".py",
   "mimetype": "text/x-python",
   "name": "python",
   "nbconvert_exporter": "python",
   "pygments_lexer": "ipython3",
   "version": "3.12.7"
  }
 },
 "nbformat": 4,
 "nbformat_minor": 2
}
